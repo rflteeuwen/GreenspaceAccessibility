{
 "cells": [
  {
   "cell_type": "code",
   "execution_count": 1,
   "id": "47793ecb",
   "metadata": {},
   "outputs": [],
   "source": [
    "import os\n",
    "import datetime\n",
    "\n",
    "import numpy as np\n",
    "import scipy\n",
    "import fiona\n",
    "import statistics\n",
    "import math\n",
    "\n",
    "import pandas as pd\n",
    "import geopandas as gpd\n",
    "from shapely.geometry import LineString, shape, mapping, Point, Polygon, MultiPolygon\n",
    "from shapely.ops import cascaded_union, nearest_points\n",
    "from shapely import wkt\n",
    "\n",
    "import matplotlib.pyplot as plt\n",
    "from matplotlib import colors, cm, style\n",
    "import matplotlib.patches as mpatches\n",
    "from descartes import PolygonPatch\n",
    "\n",
    "import osmnx as ox\n",
    "import networkx as nx\n",
    "\n",
    "from geopy.geocoders import Nominatim\n",
    "from geopy.extra.rate_limiter import RateLimiter"
   ]
  },
  {
   "cell_type": "code",
   "execution_count": 2,
   "id": "2526494c",
   "metadata": {
    "tags": []
   },
   "outputs": [],
   "source": [
    "from my_osm import get_osm_data\n",
    "from my_area_stats import val_per_area"
   ]
  },
  {
   "cell_type": "code",
   "execution_count": 3,
   "id": "ec49cc60",
   "metadata": {},
   "outputs": [],
   "source": [
    "style.use('seaborn-white')\n",
    "output_folder = 'data'\n",
    "osm_crs = 'EPSG:3857'"
   ]
  },
  {
   "cell_type": "markdown",
   "id": "ed523374",
   "metadata": {},
   "source": [
    "# Parameters"
   ]
  },
  {
   "cell_type": "code",
   "execution_count": 4,
   "id": "5ff05f23",
   "metadata": {},
   "outputs": [],
   "source": [
    "# Place                                Country              CRS\n",
    "# Amsterdam | Rotterdam | The Hague    (The Netherlands)    EPSG:28992\n",
    "# Madrid    | Barcelona | Valencia     (Spain)              EPSG:25830\n",
    "# Stockholm | Goteborg  | Malmo        (Sweden)             EPSG:3006 ???\n",
    "\n",
    "place_name = 'The Hague'\n",
    "country = 'NLD'\n",
    "sub_folder = str(place_name).replace(' ', '')+'_14Apr2022'\n",
    "local_crs = 'EPSG:28992'\n",
    "place_extra = 0"
   ]
  },
  {
   "cell_type": "code",
   "execution_count": 5,
   "id": "7580c301",
   "metadata": {},
   "outputs": [],
   "source": [
    "trip_distances = [300, 500, 800]\n",
    "buffer = max(trip_distances)\n",
    "\n",
    "tolerance = 20\n",
    "children = True\n",
    "detours = True\n",
    "osm_schools = False\n",
    "\n",
    "preprocessed = True"
   ]
  },
  {
   "cell_type": "markdown",
   "id": "ce111888",
   "metadata": {},
   "source": [
    "# Load data"
   ]
  },
  {
   "cell_type": "code",
   "execution_count": 6,
   "id": "7b716886",
   "metadata": {},
   "outputs": [],
   "source": [
    "place = ox.geocode_to_gdf(place_name).to_crs(local_crs)\n",
    "if place_extra:\n",
    "    place['geometry'] = place.buffer(place_extra, join_style=2)\n",
    "extent = place.buffer(buffer, join_style=2)"
   ]
  },
  {
   "cell_type": "markdown",
   "id": "c7a0f81c-0045-4b3a-a59b-d1134adb97ea",
   "metadata": {},
   "source": [
    "## DUO Dutch Educational"
   ]
  },
  {
   "cell_type": "code",
   "execution_count": 7,
   "id": "cc45adb4-a314-43ae-a1ed-3586501507e0",
   "metadata": {},
   "outputs": [],
   "source": [
    "# https://www.duo.nl/open_onderwijsdata/primair-onderwijs/scholen-en-adressen/#"
   ]
  },
  {
   "cell_type": "code",
   "execution_count": 8,
   "id": "84573cc8-1993-4519-b774-b5bcaf1f8d70",
   "metadata": {},
   "outputs": [],
   "source": [
    "import warnings\n",
    "warnings.filterwarnings('ignore')"
   ]
  },
  {
   "cell_type": "code",
   "execution_count": 9,
   "id": "3904a598-c69d-418d-a32d-2a94e07c8d65",
   "metadata": {},
   "outputs": [],
   "source": [
    "geolocator = Nominatim(user_agent='myGeocoder')\n",
    "geocode = RateLimiter(geolocator.geocode, min_delay_seconds=1)"
   ]
  },
  {
   "cell_type": "code",
   "execution_count": 10,
   "id": "218c8aad-4182-4b15-b0cc-4576caac072c",
   "metadata": {},
   "outputs": [],
   "source": [
    "if country == 'NLD':\n",
    "    folder = os.path.join('data', 'education', 'NLD')"
   ]
  },
  {
   "cell_type": "code",
   "execution_count": 11,
   "id": "ba65640a-56c8-49fc-89bc-c595f44aacc1",
   "metadata": {},
   "outputs": [],
   "source": [
    "def format_query(row, postalcode_only=False):\n",
    "    # query containing only postal code, and country\n",
    "    if postalcode_only:\n",
    "        return {\n",
    "            'postalcode': row['POSTCODE'].replace(' ', ''),\n",
    "            'country': 'NL'        \n",
    "        }\n",
    "    \n",
    "    # query containing street and house number (without addition), postal code, place name, and country\n",
    "    else:\n",
    "        # some places have province abbreviations at their end, omit that part\n",
    "        provinces = (' ZH', ' NH', ' FR', ' GN', ' GLD', ' ZLD', ' DR', ' LB', ' L' ' NB', 'UT', 'OV')   # FL for Flevoland?\n",
    "        if row['PLAATSNAAM'].endswith(provinces):\n",
    "            plaatsnaam = row['PLAATSNAAM'].split(' ')[:-1]\n",
    "            plaatsnaam = ' '.join(plaatsnaam)\n",
    "        else:\n",
    "            plaatsnaam = row['PLAATSNAAM']\n",
    "\n",
    "        # some places have a municipality (GEM) defined, omit that part\n",
    "        return {\n",
    "            'street': row['STRAATNAAM'] + ' ' + str(row['HUISNUMMER-TOEVOEGING']).split('-')[0],\n",
    "            'postalcode': row['POSTCODE'].replace(' ', ''),\n",
    "            'city': plaatsnaam.split(' GEM ')[0],\n",
    "            'country': 'NL'        \n",
    "        }"
   ]
  },
  {
   "cell_type": "code",
   "execution_count": 12,
   "id": "293b0cf2-332c-40ff-ada7-40c341ec9bbf",
   "metadata": {},
   "outputs": [],
   "source": [
    "def get_edu_geocodes(gdf, postalcode_only=False):\n",
    "    \n",
    "    gdf['query'] = gdf.apply(lambda row: format_query(row, postalcode_only=postalcode_only), axis=1)   \n",
    "    gdf['location'] = gdf['query'].apply(geocode)\n",
    "    gdf['geometry'] = gdf['location'].apply(lambda loc: tuple(loc.point) if loc else None)\n",
    "    \n",
    "    return gdf"
   ]
  },
  {
   "cell_type": "code",
   "execution_count": 13,
   "id": "a353471a-c60b-4b37-b93f-184a96b6f02b",
   "metadata": {},
   "outputs": [],
   "source": [
    "def geocodes_to_gdf(gdf):\n",
    "\n",
    "    gdf.crs = 'epsg:4326'\n",
    "    gdf[['latitude', 'longitude', 'altitude']] = pd.DataFrame(gdf['geometry'].tolist(), index=gdf.index)\n",
    "    gdf['geometry'] = [Point(xy) for xy in zip(gdf.longitude, gdf.latitude)] \n",
    "    gdf = gdf.to_crs(local_crs)\n",
    "    \n",
    "    return gdf"
   ]
  },
  {
   "cell_type": "markdown",
   "id": "74c5cc31-b3d7-43fe-b5fd-13cfec5bab67",
   "metadata": {
    "tags": []
   },
   "source": [
    "## Primary schools (basisonderwijs)"
   ]
  },
  {
   "cell_type": "code",
   "execution_count": 14,
   "id": "aa643679-9652-4cfa-8fec-ebb4efea1a14",
   "metadata": {
    "tags": []
   },
   "outputs": [],
   "source": [
    "if not preprocessed:\n",
    "    primary = gpd.read_file(os.path.join(folder, '02-alle-schoolvestigingen-basisonderwijs.csv'))\n",
    "    primary_enriched = get_edu_geocodes(primary)\n",
    "    primary_output = primary_enriched[primary_enriched['location'].notna()]\n",
    "    primary_gdf = geocodes_to_gdf(primary_output)"
   ]
  },
  {
   "cell_type": "code",
   "execution_count": 15,
   "id": "bad8f481-74b5-4b5b-bd86-16461efb0132",
   "metadata": {
    "tags": []
   },
   "outputs": [],
   "source": [
    "if not preprocessed:\n",
    "    if len(primary_enriched[primary_enriched['location'].isna()]) > 0:\n",
    "        primary_iteration = primary_enriched[primary_enriched['location'].isna()]\n",
    "        primary_iteration_enriched = get_edu_geocodes(primary_iteration, postalcode_only=True)\n",
    "        primary_iteration_output = primary_iteration_enriched[primary_iteration_enriched['location'].notna()]\n",
    "        primary_iteration_gdf = geocodes_to_gdf(primary_iteration_output)\n",
    "        primary_total = gpd.GeoDataFrame(pd.concat([primary_gdf, primary_iteration_gdf], ignore_index=True))\n",
    "    else:\n",
    "        primary_total = primary_gdf.copy()"
   ]
  },
  {
   "cell_type": "code",
   "execution_count": 16,
   "id": "2e630306-8566-4c63-be86-dd71ad0551a4",
   "metadata": {
    "tags": []
   },
   "outputs": [],
   "source": [
    "if not preprocessed:\n",
    "    if len(primary_total) != len(primary):      \n",
    "        not_found = list(set(primary['VESTIGINGSNUMMER'].unique()) - set(primary_total['VESTIGINGSNUMMER'].unique()))\n",
    "        for nr in not_found:\n",
    "            row = primary[primary['VESTIGINGSNUMMER']==nr]\n",
    "            primary_total = gpd.GeoDataFrame(pd.concat([primary_total, row], ignore_index=True))\n",
    "        print('{} geocoordinates could not be identified'.format(len(not_found)))"
   ]
  },
  {
   "cell_type": "code",
   "execution_count": 17,
   "id": "94771596-ff47-45e8-b9e2-73f3cc3138bc",
   "metadata": {
    "tags": []
   },
   "outputs": [],
   "source": [
    "if not preprocessed:\n",
    "    primary_total.to_csv(os.path.join(folder, 'primary_enriched.csv'))"
   ]
  },
  {
   "cell_type": "code",
   "execution_count": 18,
   "id": "fd8cab66-8557-42e5-ba66-13cd49338d98",
   "metadata": {},
   "outputs": [],
   "source": [
    "if preprocessed:\n",
    "    df = pd.read_csv(os.path.join(folder, 'primary_enriched.csv'))\n",
    "    df.loc[df['geometry'].isna()] = 'Point Empty'\n",
    "    df['geometry'] = df['geometry'].apply(wkt.loads)\n",
    "    primary_total = gpd.GeoDataFrame(df, crs=local_crs)  "
   ]
  },
  {
   "cell_type": "markdown",
   "id": "b9f12562-9ec7-4b0f-9130-a630ce2fc8ac",
   "metadata": {},
   "source": [
    "## Secondary schools (voortgezet onderwijs)"
   ]
  },
  {
   "cell_type": "code",
   "execution_count": 19,
   "id": "4289992a-9479-4179-a201-48340cdb9024",
   "metadata": {},
   "outputs": [],
   "source": [
    "if not preprocessed:\n",
    "    secondary = gpd.read_file(os.path.join(folder, '02-alle-vestigingen-vo.csv'))\n",
    "    secondary_enriched = get_edu_geocodes(secondary)\n",
    "    secondary_output = secondary_enriched[secondary_enriched['location'].notna()]\n",
    "    secondary_gdf = geocodes_to_gdf(secondary_output)"
   ]
  },
  {
   "cell_type": "code",
   "execution_count": 20,
   "id": "4d21d57b-1453-4ac4-aadc-65e3cd432fbe",
   "metadata": {},
   "outputs": [],
   "source": [
    "if not preprocessed:\n",
    "    if len(secondary_enriched[secondary_enriched['location'].isna()]) > 0:\n",
    "        secondary_iteration = secondary_enriched[secondary_enriched['location'].isna()]\n",
    "        secondary_iteration_enriched = get_edu_geocodes(secondary_iteration, postalcode_only=True)\n",
    "        secondary_iteration_output = secondary_iteration_enriched[secondary_iteration_enriched['location'].notna()]\n",
    "        secondary_iteration_gdf = geocodes_to_gdf(secondary_iteration_output)\n",
    "        secondary_total = gpd.GeoDataFrame(pd.concat([secondary_gdf, secondary_iteration_gdf], ignore_index=True))\n",
    "    else:\n",
    "        secondary_total = secondary_gdf.copy()"
   ]
  },
  {
   "cell_type": "code",
   "execution_count": 21,
   "id": "760a27c2-1593-40de-ade2-296a6e483c9d",
   "metadata": {},
   "outputs": [],
   "source": [
    "if not preprocessed:\n",
    "    if len(secondary_total) != len(secondary):\n",
    "        not_found = list(set(secondary['VESTIGINGSNUMMER'].unique()) - set(secondary_total['VESTIGINGSNUMMER'].unique()))\n",
    "        for nr in not_found:\n",
    "            row = secondary[secondary['VESTIGINGSNUMMER']==nr]\n",
    "            secondary_total = gpd.GeoDataFrame(pd.concat([secondary_total, row], ignore_index=True))\n",
    "        print('{} geocoordinates could not be identified'.format(len(not_found)))"
   ]
  },
  {
   "cell_type": "code",
   "execution_count": 22,
   "id": "d320ea15-17ca-4bb1-b1b0-c78eb2df03b1",
   "metadata": {},
   "outputs": [],
   "source": [
    "if not preprocessed:\n",
    "    secondary_total.to_csv(os.path.join(folder, 'secondary_enriched.csv'))"
   ]
  },
  {
   "cell_type": "code",
   "execution_count": 23,
   "id": "be2bd5b4-6b32-4d1c-8ca9-5e18ccd5ee94",
   "metadata": {},
   "outputs": [],
   "source": [
    "if preprocessed:\n",
    "    df = pd.read_csv(os.path.join(folder, 'secondary_enriched.csv'))\n",
    "    df.loc[df['geometry'].isna()] = 'Point Empty'\n",
    "    df['geometry'] = df['geometry'].apply(wkt.loads)\n",
    "    secondary_total = gpd.GeoDataFrame(df, crs=local_crs)        "
   ]
  },
  {
   "cell_type": "markdown",
   "id": "527aa25f-2149-4dd5-9b48-544098fb8fb2",
   "metadata": {},
   "source": [
    "## Higher education (MBO)"
   ]
  },
  {
   "cell_type": "code",
   "execution_count": 24,
   "id": "3d64f6e8-7222-406a-ade0-402269a0e485",
   "metadata": {
    "tags": []
   },
   "outputs": [],
   "source": [
    "if not preprocessed:\n",
    "    mbo = gpd.read_file(os.path.join(folder, '01-adressen-instellingen.csv'))\n",
    "    mbo_enriched = get_edu_geocodes(mbo)\n",
    "    mbo_output = mbo_enriched[mbo_enriched['location'].notna()]\n",
    "    mbo_gdf = geocodes_to_gdf(mbo_output)"
   ]
  },
  {
   "cell_type": "code",
   "execution_count": 25,
   "id": "7b0354d7-72a0-4870-b047-cc815805a81d",
   "metadata": {
    "tags": []
   },
   "outputs": [],
   "source": [
    "if not preprocessed:\n",
    "    if len(mbo_enriched[mbo_enriched['location'].isna()]) > 0:\n",
    "        mbo_iteration = mbo_enriched[mbo_enriched['location'].isna()]\n",
    "        mbo_iteration_enriched = get_edu_geocodes(mbo_iteration, postalcode_only=True)\n",
    "        mbo_iteration_output = mbo_iteration_enriched[mbo_iteration_enriched['location'].notna()]\n",
    "        mbo_iteration_gdf = geocodes_to_gdf(mbo_iteration_output)\n",
    "        mbo_total = gpd.GeoDataFrame(pd.concat([mbo_gdf, mbo_iteration_gdf], ignore_index=True))\n",
    "    else:\n",
    "        mbo_total = mbo_gdf.copy()"
   ]
  },
  {
   "cell_type": "code",
   "execution_count": 26,
   "id": "7154d97f-99d6-4b55-b286-2c00e9cbf488",
   "metadata": {
    "tags": []
   },
   "outputs": [],
   "source": [
    "if not preprocessed:\n",
    "    if len(mbo_total) != len(mbo):        \n",
    "        not_found = list(set(mbo['VESTIGINGSNUMMER'].unique()) - set(mbo_total['VESTIGINGSNUMMER'].unique()))\n",
    "        for nr in not_found:\n",
    "            row = mbo[mbo['VESTIGINGSNUMMER']==nr]\n",
    "            mbo_total = gpd.GeoDataFrame(pd.concat([mbo_total, row], ignore_index=True))\n",
    "        print('{} geocoordinates could not be identified'.format(len(not_found)))"
   ]
  },
  {
   "cell_type": "code",
   "execution_count": 27,
   "id": "45279ed4-002b-4e9a-9128-280547937d71",
   "metadata": {
    "tags": []
   },
   "outputs": [],
   "source": [
    "if not preprocessed:\n",
    "    mbo_total.to_csv(os.path.join(folder, 'mbo_enriched.csv'))"
   ]
  },
  {
   "cell_type": "code",
   "execution_count": 28,
   "id": "f506b3c3-4c7c-4640-a0bc-39f0d04d6bea",
   "metadata": {},
   "outputs": [],
   "source": [
    "if preprocessed:\n",
    "    df = pd.read_csv(os.path.join(folder, 'mbo_enriched.csv'))\n",
    "    df.loc[df['geometry'].isna()] = 'Point Empty'\n",
    "    df['geometry'] = df['geometry'].apply(wkt.loads)\n",
    "    mbo_total = gpd.GeoDataFrame(df, crs=local_crs)     "
   ]
  },
  {
   "cell_type": "markdown",
   "id": "3e017151-b4d1-49ef-b3e0-73fa2e6c0f4c",
   "metadata": {
    "tags": []
   },
   "source": [
    "## Higher education (HBO, WO)"
   ]
  },
  {
   "cell_type": "code",
   "execution_count": 29,
   "id": "3ab785cc-55c0-4c11-9410-c86ee3a135b7",
   "metadata": {
    "tags": []
   },
   "outputs": [],
   "source": [
    "if not preprocessed:\n",
    "    hbowo = gpd.read_file(os.path.join(folder, '01-instellingen-hbo-en-wo.csv'))\n",
    "    hbowo_enriched = get_edu_geocodes(hbowo)\n",
    "    hbowo_output = hbowo_enriched[hbowo_enriched['location'].notna()]\n",
    "    hbowo_gdf = geocodes_to_gdf(hbowo_output)"
   ]
  },
  {
   "cell_type": "code",
   "execution_count": 30,
   "id": "4419f476-ac4a-497e-95c2-a8bc30b81715",
   "metadata": {
    "tags": []
   },
   "outputs": [],
   "source": [
    "if not preprocessed:\n",
    "    if len(hbowo_enriched[hbowo_enriched['location'].isna()]) > 0:\n",
    "        hbowo_iteration = hbowo_enriched[hbowo_enriched['location'].isna()]\n",
    "        hbowo_iteration_enriched = get_edu_geocodes(hbowo_iteration, postalcode_only=True)\n",
    "        hbowo_iteration_output = hbowo_iteration_enriched[hbowo_iteration_enriched['location'].notna()]\n",
    "        hbowo_iteration_gdf = geocodes_to_gdf(hbowo_iteration_output)\n",
    "        hbowo_total = gpd.GeoDataFrame(pd.concat([hbowo_gdf, hbowo_iteration_gdf], ignore_index=True))\n",
    "    else:\n",
    "        hbowo_total = hbowo_gdf.copy()"
   ]
  },
  {
   "cell_type": "code",
   "execution_count": 31,
   "id": "3772aafe-cab0-4c0f-ad1b-60f21612dcd9",
   "metadata": {
    "tags": []
   },
   "outputs": [],
   "source": [
    "if not preprocessed:\n",
    "    if len(hbowo_total) != len(hbowo):\n",
    "        not_found = list(set(hbowo['VESTIGINGSNUMMER'].unique()) - set(hbowo_total['VESTIGINGSNUMMER'].unique()))\n",
    "        for nr in not_found:\n",
    "            row = hbowo[hbowo['VESTIGINGSNUMMER']==nr]\n",
    "            hbowo_total = gpd.GeoDataFrame(pd.concat([hbowo_total, row], ignore_index=True))\n",
    "        print('{} geocoordinates could not be identified'.format(len(not_found)))"
   ]
  },
  {
   "cell_type": "code",
   "execution_count": 32,
   "id": "645bd46d-02ef-4307-a428-ca70e30d8e97",
   "metadata": {
    "tags": []
   },
   "outputs": [],
   "source": [
    "if not preprocessed:\n",
    "    hbowo_total.to_csv(os.path.join(folder, 'hbowo_enriched.csv'))"
   ]
  },
  {
   "cell_type": "code",
   "execution_count": 33,
   "id": "cb879272-c508-4c47-bf7a-3c9fb99b3a54",
   "metadata": {},
   "outputs": [],
   "source": [
    "if preprocessed:\n",
    "    df = pd.read_csv(os.path.join(folder, 'hbowo_enriched.csv'))\n",
    "    df.loc[df['geometry'].isna()] = 'Point Empty'\n",
    "    df['geometry'] = df['geometry'].apply(wkt.loads)\n",
    "    hbowo_total = gpd.GeoDataFrame(df, crs=local_crs)     "
   ]
  },
  {
   "cell_type": "markdown",
   "id": "7ad2b5b7-27ec-420e-9363-e63fc209c8d0",
   "metadata": {
    "tags": []
   },
   "source": [
    "## Higher education (PABO)"
   ]
  },
  {
   "cell_type": "code",
   "execution_count": 34,
   "id": "9260d4cc-e681-4017-b323-17696a977d59",
   "metadata": {
    "tags": []
   },
   "outputs": [],
   "source": [
    "if not preprocessed:\n",
    "    pabo = gpd.read_file(os.path.join(folder, '02-instellingen-pabo.csv'))\n",
    "    pabo_enriched = get_edu_geocodes(pabo)\n",
    "    pabo_output = pabo_enriched[pabo_enriched['location'].notna()]\n",
    "    pabo_gdf = geocodes_to_gdf(pabo_output)"
   ]
  },
  {
   "cell_type": "code",
   "execution_count": 35,
   "id": "19efdcc1-2070-4a10-83d9-72099c56ebe3",
   "metadata": {
    "tags": []
   },
   "outputs": [],
   "source": [
    "if not preprocessed:\n",
    "    if len(pabo_enriched[pabo_enriched['location'].isna()]) > 0:\n",
    "        pabo_iteration = pabo_enriched[pabo_enriched['location'].isna()]\n",
    "        pabo_iteration_enriched = get_edu_geocodes(pabo_iteration, postalcode_only=True)\n",
    "        pabo_iteration_output = pabo_iteration_enriched[pabo_iteration_enriched['location'].notna()]\n",
    "        pabo_iteration_gdf = geocodes_to_gdf(pabo_iteration_output)\n",
    "        pabo_total = gpd.GeoDataFrame(pd.concat([pabo_gdf, pabo_iteration_gdf], ignore_index=True))\n",
    "    else:\n",
    "        pabo_total = pabo_gdf.copy()"
   ]
  },
  {
   "cell_type": "code",
   "execution_count": 36,
   "id": "55c7b296-e7ec-4d1c-9e96-214b64e08e4e",
   "metadata": {
    "tags": []
   },
   "outputs": [],
   "source": [
    "if not preprocessed:\n",
    "    if len(pabo_total) != len(pabo):\n",
    "        not_found = list(set(pabo['VESTIGINGSNUMMER'].unique()) - set(pabo_total['VESTIGINGSNUMMER'].unique()))\n",
    "        for nr in not_found:\n",
    "            row = pabo[pabo['VESTIGINGSNUMMER']==nr]\n",
    "            pabo_total = gpd.GeoDataFrame(pd.concat([pabo_total, row], ignore_index=True))\n",
    "        print('{} geocoordinates could not be identified'.format(len(not_found)))"
   ]
  },
  {
   "cell_type": "code",
   "execution_count": 37,
   "id": "395576c9-0720-4064-a40a-9cbf8f5809b7",
   "metadata": {
    "tags": []
   },
   "outputs": [],
   "source": [
    "if not preprocessed:\n",
    "    pabo_total.to_csv(os.path.join(folder, 'pabo_enriched.csv'))"
   ]
  },
  {
   "cell_type": "code",
   "execution_count": 38,
   "id": "873165bb-a533-4856-8234-81a563067184",
   "metadata": {},
   "outputs": [],
   "source": [
    "if preprocessed:\n",
    "    df = pd.read_csv(os.path.join(folder, 'pabo_enriched.csv'))\n",
    "    df.loc[df['geometry'].isna()] = 'Point Empty'\n",
    "    df['geometry'] = df['geometry'].apply(wkt.loads)\n",
    "    pabo_total = gpd.GeoDataFrame(df, crs=local_crs)     "
   ]
  },
  {
   "cell_type": "markdown",
   "id": "e636ace5-8b83-41c0-959a-ef3898d4f1e2",
   "metadata": {},
   "source": [
    "## Special education"
   ]
  },
  {
   "cell_type": "code",
   "execution_count": 39,
   "id": "7bae5fe4-8a59-4058-bbcd-9ac87cb14338",
   "metadata": {
    "tags": []
   },
   "outputs": [],
   "source": [
    "if not preprocessed:\n",
    "    special = gpd.read_file(os.path.join(folder, '09-alle-vestigingen-sbo-so-en-vso.csv'))\n",
    "    special_enriched = get_edu_geocodes(special)\n",
    "    special_output = special_enriched[special_enriched['location'].notna()]\n",
    "    special_gdf = geocodes_to_gdf(special_output)"
   ]
  },
  {
   "cell_type": "code",
   "execution_count": 40,
   "id": "af33225b-9f48-47e9-a39f-4934f20eea97",
   "metadata": {},
   "outputs": [],
   "source": [
    "if not preprocessed:\n",
    "    if len(special_enriched[special_enriched['location'].isna()]) > 0:\n",
    "        special_iteration = special_enriched[special_enriched['location'].isna()]\n",
    "        special_iteration_enriched = get_edu_geocodes(special_iteration, postalcode_only=True)\n",
    "        special_iteration_output = special_iteration_enriched[special_iteration_enriched['location'].notna()]\n",
    "        special_iteration_gdf = geocodes_to_gdf(special_iteration_output)\n",
    "        special_total = gpd.GeoDataFrame(pd.concat([special_gdf, special_iteration_gdf], ignore_index=True))\n",
    "    else:\n",
    "        special_total = special_gdf.copy()"
   ]
  },
  {
   "cell_type": "code",
   "execution_count": 41,
   "id": "451aa056-7755-498f-9cbf-f1acbeec82cf",
   "metadata": {},
   "outputs": [],
   "source": [
    "if not preprocessed:\n",
    "    if len(special_total) != len(special):\n",
    "        not_found = list(set(special['VESTIGINGSNUMMER'].unique()) - set(special_total['VESTIGINGSNUMMER'].unique()))\n",
    "        for nr in not_found:\n",
    "            row = special[special['VESTIGINGSNUMMER']==nr]\n",
    "            special_total = gpd.GeoDataFrame(pd.concat([special_total, row], ignore_index=True))\n",
    "        print('{} geocoordinates could not be identified'.format(len(not_found)))"
   ]
  },
  {
   "cell_type": "code",
   "execution_count": 42,
   "id": "da037d7a-f5aa-48e6-a3fc-60319eb82ff5",
   "metadata": {},
   "outputs": [],
   "source": [
    "if not preprocessed:\n",
    "    special_total.to_csv(os.path.join(folder, 'special_enriched.csv'))"
   ]
  },
  {
   "cell_type": "code",
   "execution_count": 43,
   "id": "4d79dad6-5fd0-4b9f-96ce-bad8328ab89b",
   "metadata": {},
   "outputs": [],
   "source": [
    "if preprocessed:\n",
    "    df = pd.read_csv(os.path.join(folder, 'special_enriched.csv'))\n",
    "    df.loc[df['geometry'].isna()] = 'Point Empty'\n",
    "    df['geometry'] = df['geometry'].apply(wkt.loads)\n",
    "    special_total = gpd.GeoDataFrame(df, crs=local_crs)     "
   ]
  },
  {
   "cell_type": "markdown",
   "id": "79a534a8-5475-4660-8f64-fbfc8c613425",
   "metadata": {},
   "source": [
    "### OpenStreetMap"
   ]
  },
  {
   "cell_type": "code",
   "execution_count": 44,
   "id": "4b57f1c1-6209-4c6d-b8df-9bd5a08727b2",
   "metadata": {},
   "outputs": [],
   "source": [
    "# https://wiki.openstreetmap.org/wiki/Education_features"
   ]
  },
  {
   "cell_type": "code",
   "execution_count": 45,
   "id": "853e2938-728c-4489-9f71-9ce85c016089",
   "metadata": {},
   "outputs": [],
   "source": [
    "if osm_schools:\n",
    "    kindergarten_query = '[\"amenity\"~\"^(kindergarten)\"]'\n",
    "    kindergartens = get_osm_data(kindergarten_query, extent, 'convexhull')\n",
    "    kindergartens['category'] = 'kindergarten'\n",
    "    \n",
    "    school_query = '[\"amenity\"~\"^(school)\"]'\n",
    "    schools = get_osm_data(school_query, extent, 'convexhull')\n",
    "    schools['category'] = 'school'"
   ]
  },
  {
   "cell_type": "code",
   "execution_count": 46,
   "id": "66a46bee-f1f1-403b-8856-44d2615158d6",
   "metadata": {},
   "outputs": [],
   "source": [
    "college_query = '[\"amenity\"~\"^(college)\"]'\n",
    "colleges = get_osm_data(college_query, extent, 'convexhull')\n",
    "colleges['category'] = 'college'\n",
    "\n",
    "university_query = '[\"amenity\"~\"^(university)\"]'\n",
    "universities = get_osm_data(university_query, extent, 'convexhull')\n",
    "universities['category'] = 'university'"
   ]
  },
  {
   "cell_type": "markdown",
   "id": "8e36b791-10bd-43ab-a20b-2aa989c88c17",
   "metadata": {},
   "source": [
    "### Combine and clip to extents"
   ]
  },
  {
   "cell_type": "code",
   "execution_count": 47,
   "id": "12060622-da76-4100-9192-cbdb29ec4d97",
   "metadata": {},
   "outputs": [],
   "source": [
    "education_children = gpd.clip(primary_total, extent)"
   ]
  },
  {
   "cell_type": "code",
   "execution_count": 48,
   "id": "3c526828-8a82-4969-9dd2-c79f857965a5",
   "metadata": {},
   "outputs": [],
   "source": [
    "list_dest_adl = [secondary_total, colleges, universities]\n",
    "education_adolescents = gpd.GeoDataFrame(pd.concat(list_dest_adl, ignore_index=True))\n",
    "education_adolescents['original_geometry'] = education_adolescents.geometry\n",
    "education_adolescents = education_adolescents.set_geometry(education_adolescents.geometry.centroid)\n",
    "education_adolescents = gpd.clip(education_adolescents, extent)"
   ]
  },
  {
   "cell_type": "markdown",
   "id": "e318f773-87a3-4f48-899a-3b6792aee60c",
   "metadata": {},
   "source": [
    "## Plot all"
   ]
  },
  {
   "cell_type": "code",
   "execution_count": 49,
   "id": "1fd64161-5209-4c90-ba15-2d6b4eeda0cc",
   "metadata": {},
   "outputs": [
    {
     "data": {
      "image/png": "[encoded data removed]",
      "text/plain": [
       "<Figure size 864x864 with 1 Axes>"
      ]
     },
     "metadata": {},
     "output_type": "display_data"
    }
   ],
   "source": [
    "handles = [\n",
    "    mpatches.Patch(color='orange', label='primary education'),\n",
    "    mpatches.Patch(color='blue', label='secondary and higher education')]\n",
    "\n",
    "fig, axs = plt.subplots(ncols=1, nrows=1, figsize=(12,12))\n",
    "fig.suptitle('Educational destinations in {}'.format(place_name), fontsize=16)\n",
    "\n",
    "education_children.plot(ax=axs, color='orange')\n",
    "education_adolescents.plot(ax=axs, color='blue')\n",
    "\n",
    "place.plot(ax=axs, figsize=(12, 12), facecolor='none', edgecolor='#dd1c77', linestyle='-', linewidth=5, zorder=4)\n",
    "\n",
    "axs.axes.get_xaxis().set_visible(False)\n",
    "axs.axes.get_yaxis().set_visible(False)\n",
    "axs.legend(handles=handles)\n",
    "\n",
    "plt.show()"
   ]
  },
  {
   "cell_type": "code",
   "execution_count": 50,
   "id": "d0e85bf5-5adc-41da-86f8-625c2b8990ee",
   "metadata": {},
   "outputs": [
    {
     "data": {
      "text/plain": [
       "164"
      ]
     },
     "execution_count": 50,
     "metadata": {},
     "output_type": "execute_result"
    }
   ],
   "source": [
    "len(education_children)"
   ]
  },
  {
   "cell_type": "code",
   "execution_count": 51,
   "id": "f8d13575-7abb-4686-94de-e5335aa16a1c",
   "metadata": {},
   "outputs": [
    {
     "data": {
      "text/plain": [
       "85"
      ]
     },
     "execution_count": 51,
     "metadata": {},
     "output_type": "execute_result"
    }
   ],
   "source": [
    "len(education_adolescents)"
   ]
  },
  {
   "cell_type": "markdown",
   "id": "07f54a50-b9dc-404f-8d44-05a91c468ebb",
   "metadata": {},
   "source": [
    "#  Store output data"
   ]
  },
  {
   "cell_type": "code",
   "execution_count": 52,
   "id": "b67abf7a",
   "metadata": {
    "tags": []
   },
   "outputs": [],
   "source": [
    "output_sub_folder = os.path.join(output_folder, sub_folder)"
   ]
  },
  {
   "cell_type": "code",
   "execution_count": 53,
   "id": "bd1aee08",
   "metadata": {
    "tags": []
   },
   "outputs": [],
   "source": [
    "output_file = os.path.join(output_sub_folder, 'education_children.geojson')\n",
    "education_children = education_children.apply(lambda c: c.astype(str) if c.name != \"geometry\" else c, axis=0)\n",
    "education_children.to_file(output_file, driver='GeoJSON')"
   ]
  },
  {
   "cell_type": "code",
   "execution_count": 54,
   "id": "ea6358da-3fa4-4994-9f04-5eebaa1fbae8",
   "metadata": {},
   "outputs": [],
   "source": [
    "output_file = os.path.join(output_sub_folder, 'education_adolescents.geojson')\n",
    "education_adolescents = education_adolescents.apply(lambda c: c.astype(str) if c.name != \"geometry\" else c, axis=0)\n",
    "education_adolescents.to_file(output_file, driver='GeoJSON')"
   ]
  }
 ],
 "metadata": {
  "kernelspec": {
   "display_name": "Python 3 (ipykernel)",
   "language": "python",
   "name": "python3"
  },
  "language_info": {
   "codemirror_mode": {
    "name": "ipython",
    "version": 3
   },
   "file_extension": ".py",
   "mimetype": "text/x-python",
   "name": "python",
   "nbconvert_exporter": "python",
   "pygments_lexer": "ipython3",
   "version": "3.9.12"
  }
 },
 "nbformat": 4,
 "nbformat_minor": 5
}
