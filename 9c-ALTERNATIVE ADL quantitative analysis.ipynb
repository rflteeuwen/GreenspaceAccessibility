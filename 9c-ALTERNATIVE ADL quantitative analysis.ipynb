{
 "cells": [
  {
   "cell_type": "code",
   "execution_count": 1,
   "id": "d1bedb51",
   "metadata": {},
   "outputs": [
    {
     "name": "stderr",
     "output_type": "stream",
     "text": [
      "/Users/roosteeuwen/opt/anaconda3/envs/greenspaces/lib/python3.7/site-packages/pysal/__init__.py:65: VisibleDeprecationWarning: PySAL's API will be changed on 2018-12-31. The last release made with this API is version 1.14.4. A preview of the next API version is provided in the `pysal` 2.0 prelease candidate. The API changes and a guide on how to change imports is provided at https://migrating.pysal.org\n",
      "  ), VisibleDeprecationWarning)\n"
     ]
    }
   ],
   "source": [
    "import os\n",
    "import datetime\n",
    "\n",
    "import numpy as np\n",
    "import scipy\n",
    "import fiona\n",
    "import statistics\n",
    "import math\n",
    "\n",
    "import pandas as pd\n",
    "import geopandas as gpd\n",
    "from shapely import wkt\n",
    "from shapely.geometry import LineString, shape, mapping, Point, Polygon, MultiPolygon\n",
    "from shapely.ops import cascaded_union\n",
    "\n",
    "from scipy.stats import linregress, norm\n",
    "\n",
    "import matplotlib.pyplot as plt\n",
    "from matplotlib import colors, cm, style\n",
    "import matplotlib.patches as mpatches\n",
    "from descartes import PolygonPatch\n",
    "from matplotlib.colors import LinearSegmentedColormap\n",
    "\n",
    "import osmnx as ox\n",
    "import networkx as nx\n",
    "\n",
    "import pysal as ps\n",
    "import libpysal as lps\n",
    "import esda\n",
    "import seaborn as sns\n",
    "\n",
    "from tabulate import tabulate\n",
    "from termcolor import colored"
   ]
  },
  {
   "cell_type": "code",
   "execution_count": 2,
   "id": "4bbe8b90",
   "metadata": {},
   "outputs": [],
   "source": [
    "style.use('seaborn-white')\n",
    "input_output_folder = 'data'"
   ]
  },
  {
   "cell_type": "markdown",
   "id": "bcb4be5b",
   "metadata": {},
   "source": [
    "# Parameters"
   ]
  },
  {
   "cell_type": "code",
   "execution_count": 3,
   "id": "36479f39",
   "metadata": {},
   "outputs": [],
   "source": [
    "local_crs = 'EPSG:28992'\n",
    "sub_folder_1 = 'Amsterdam_14Apr2022'\n",
    "sub_folder_2 = 'Rotterdam_14Apr2022'\n",
    "sub_folder_3 = 'TheHague_14Apr2022'"
   ]
  },
  {
   "cell_type": "code",
   "execution_count": 4,
   "id": "efdced5f",
   "metadata": {},
   "outputs": [],
   "source": [
    "trip_distances = [300, 500, 800]"
   ]
  },
  {
   "cell_type": "markdown",
   "id": "c90c236d",
   "metadata": {},
   "source": [
    "# Load data"
   ]
  },
  {
   "cell_type": "code",
   "execution_count": 5,
   "id": "995e76de",
   "metadata": {},
   "outputs": [],
   "source": [
    "gs_1 = gpd.read_file(os.path.join(input_output_folder, sub_folder_1, 'ALTERNATIVE_greenspace_accessibility.geojson'))\n",
    "gs_1['city'] = sub_folder_1.split('_')[0]\n",
    "gs_2 = gpd.read_file(os.path.join(input_output_folder, sub_folder_2, 'ALTERNATIVE_greenspace_accessibility.geojson'))\n",
    "gs_2['city'] = sub_folder_2.split('_')[0]\n",
    "gs_3 = gpd.read_file(os.path.join(input_output_folder, sub_folder_3, 'ALTERNATIVE_greenspace_accessibility.geojson'))\n",
    "gs_3['city'] = sub_folder_3.split('_')[0]"
   ]
  },
  {
   "cell_type": "code",
   "execution_count": 6,
   "id": "6c4268b4",
   "metadata": {},
   "outputs": [],
   "source": [
    "gs_list = [gs_1, gs_2, gs_3]\n",
    "greenspaces = gpd.GeoDataFrame(pd.concat(gs_list, ignore_index=True))\n",
    "greenspaces.crs = local_crs"
   ]
  },
  {
   "cell_type": "code",
   "execution_count": 7,
   "id": "20810872",
   "metadata": {},
   "outputs": [],
   "source": [
    "def set_types_geometries(df, cols):\n",
    "    for col in cols:\n",
    "        df[col] = df[col].apply(wkt.loads)\n",
    "        gdf = gpd.GeoDataFrame(df, geometry=col)\n",
    "        gdf.crs = local_crs"
   ]
  },
  {
   "cell_type": "code",
   "execution_count": 8,
   "id": "2d02ef3b",
   "metadata": {},
   "outputs": [],
   "source": [
    "cols = []\n",
    "for trip_dist in trip_distances:\n",
    "    cols.append('geom_iso_'+str(trip_dist))\n",
    "\n",
    "set_types_geometries(greenspaces, cols)"
   ]
  },
  {
   "cell_type": "code",
   "execution_count": 9,
   "id": "b4abea98",
   "metadata": {},
   "outputs": [],
   "source": [
    "for col in greenspaces.columns:\n",
    "    if not 'geom' in col:\n",
    "        if not 'city' in col:\n",
    "            greenspaces[col] = greenspaces[col].astype(float)"
   ]
  },
  {
   "cell_type": "markdown",
   "id": "223f954f-907a-477f-9d01-e79f0266dfbc",
   "metadata": {},
   "source": [
    "# Descriptive statistics"
   ]
  },
  {
   "cell_type": "code",
   "execution_count": 10,
   "id": "8573200b-1520-464c-b853-8099267f9235",
   "metadata": {},
   "outputs": [],
   "source": [
    "cols = [\n",
    "    'betw_adl_800_dr12_entering', \n",
    "    'betw_adl_1000_dr12_entering', \n",
    "    'betw_adl_1200_dr12_entering'\n",
    "    ]"
   ]
  },
  {
   "cell_type": "code",
   "execution_count": 11,
   "id": "dda5795f-c8e6-4ca3-9ada-7918a22088f5",
   "metadata": {},
   "outputs": [],
   "source": [
    "headers_descr = ['', 'N', 'mean', 'std.dev.', 'min', 'max']\n",
    "rows_descr = []\n",
    "\n",
    "for col in cols:\n",
    "    row = [col]\n",
    "    \n",
    "    row.append(len(greenspaces[greenspaces[col].notna()]))\n",
    "    row.append(round(greenspaces[col].mean(), 1))\n",
    "    row.append(round(greenspaces[col].std(), 1))\n",
    "    row.append(round(greenspaces[col].min(), 0))\n",
    "    row.append(round(greenspaces[col].max(), 0))\n",
    "\n",
    "    rows_descr.append(row)"
   ]
  },
  {
   "cell_type": "code",
   "execution_count": 12,
   "id": "4068c95e-e6cc-4eab-9072-82ebe4bfffa3",
   "metadata": {},
   "outputs": [
    {
     "name": "stdout",
     "output_type": "stream",
     "text": [
      "                               N    mean    std.dev.    min    max\n",
      "---------------------------  ---  ------  ----------  -----  -----\n",
      "betw_adl_800_dr12_entering   848    34.6       150.8      0   2287\n",
      "betw_adl_1000_dr12_entering  848    51.5       174.8      0   1738\n",
      "betw_adl_1200_dr12_entering  848    58.8       190.5      0   1859\n"
     ]
    }
   ],
   "source": [
    "print(tabulate(rows_descr, headers=headers_descr))"
   ]
  },
  {
   "cell_type": "code",
   "execution_count": 13,
   "id": "a043fba2-bafa-4105-907b-f84a943c2658",
   "metadata": {},
   "outputs": [
    {
     "data": {
      "text/plain": [
       "238"
      ]
     },
     "execution_count": 13,
     "metadata": {},
     "output_type": "execute_result"
    }
   ],
   "source": [
    "len(greenspaces[greenspaces['betw_adl_800_dr12_wsum']>0.0])"
   ]
  },
  {
   "cell_type": "code",
   "execution_count": 14,
   "id": "d6dc75d1-2500-4845-a18d-3628decf6db7",
   "metadata": {},
   "outputs": [
    {
     "data": {
      "text/plain": [
       "330"
      ]
     },
     "execution_count": 14,
     "metadata": {},
     "output_type": "execute_result"
    }
   ],
   "source": [
    "len(greenspaces[greenspaces['betw_adl_1000_dr12_wsum']>0.0])"
   ]
  },
  {
   "cell_type": "code",
   "execution_count": 15,
   "id": "9b50de85-bbf0-419c-bb8b-e07947b06833",
   "metadata": {},
   "outputs": [
    {
     "data": {
      "text/plain": [
       "371"
      ]
     },
     "execution_count": 15,
     "metadata": {},
     "output_type": "execute_result"
    }
   ],
   "source": [
    "len(greenspaces[greenspaces['betw_adl_1200_dr12_wsum']>0.0])"
   ]
  },
  {
   "cell_type": "markdown",
   "id": "08c7dca5",
   "metadata": {},
   "source": [
    "# Correlations between accessibility measures"
   ]
  },
  {
   "cell_type": "code",
   "execution_count": 16,
   "id": "ca40f051-b804-4252-80c8-6d59dfe4439e",
   "metadata": {},
   "outputs": [],
   "source": [
    "headers = ['']\n",
    "rows = []\n",
    "\n",
    "for col_a in cols:\n",
    "    row = [col_a]\n",
    "    \n",
    "    for col_b in cols:\n",
    "        if col_a == col_b:\n",
    "            row.append(1)\n",
    "            break\n",
    "        else:\n",
    "            r, p = scipy.stats.spearmanr(greenspaces[col_a], greenspaces[col_b])\n",
    "            r = round(r, 3)\n",
    "            \n",
    "            if p <= 0.05:\n",
    "                r = str(r)+'*'\n",
    "                if p <= 0.01:\n",
    "                    r = r+'*'\n",
    "\n",
    "            row.append(r)\n",
    "    headers.append(col_a)\n",
    "    rows.append(row)"
   ]
  },
  {
   "cell_type": "code",
   "execution_count": 17,
   "id": "1e20bc83-fbc0-41c8-8f4b-5cd51fcd481e",
   "metadata": {},
   "outputs": [
    {
     "name": "stdout",
     "output_type": "stream",
     "text": [
      "                             betw_adl_800_dr12_entering    betw_adl_1000_dr12_entering      betw_adl_1200_dr12_entering\n",
      "---------------------------  ----------------------------  -----------------------------  -----------------------------\n",
      "betw_adl_800_dr12_entering   1\n",
      "betw_adl_1000_dr12_entering  0.867**                       1\n",
      "betw_adl_1200_dr12_entering  0.753**                       0.841**                                                    1\n"
     ]
    }
   ],
   "source": [
    "print(tabulate(rows, headers=headers))"
   ]
  }
 ],
 "metadata": {
  "kernelspec": {
   "display_name": "Python 3 (ipykernel)",
   "language": "python",
   "name": "python3"
  },
  "language_info": {
   "codemirror_mode": {
    "name": "ipython",
    "version": 3
   },
   "file_extension": ".py",
   "mimetype": "text/x-python",
   "name": "python",
   "nbconvert_exporter": "python",
   "pygments_lexer": "ipython3",
   "version": "3.9.12"
  }
 },
 "nbformat": 4,
 "nbformat_minor": 5
}
