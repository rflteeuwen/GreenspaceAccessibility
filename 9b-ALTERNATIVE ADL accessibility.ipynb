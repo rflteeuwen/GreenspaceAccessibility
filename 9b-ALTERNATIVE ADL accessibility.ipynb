{
 "cells": [
  {
   "cell_type": "code",
   "execution_count": 24,
   "id": "d8df91e8",
   "metadata": {},
   "outputs": [],
   "source": [
    "import os\n",
    "import datetime\n",
    "\n",
    "import numpy as np\n",
    "import scipy\n",
    "import fiona\n",
    "import statistics\n",
    "import math\n",
    "\n",
    "import pandas as pd\n",
    "import geopandas as gpd\n",
    "from shapely import wkt\n",
    "from shapely.geometry import LineString, shape, mapping, Point, Polygon, MultiPolygon\n",
    "from shapely.ops import cascaded_union\n",
    "\n",
    "from scipy.stats import linregress\n",
    "\n",
    "import matplotlib.pyplot as plt\n",
    "from matplotlib import colors, cm, style\n",
    "import matplotlib.patches as mpatches\n",
    "from descartes import PolygonPatch\n",
    "from matplotlib.colors import LinearSegmentedColormap\n",
    "\n",
    "import osmnx as ox\n",
    "import networkx as nx"
   ]
  },
  {
   "cell_type": "code",
   "execution_count": 25,
   "id": "3a24e4d3",
   "metadata": {},
   "outputs": [],
   "source": [
    "from my_area_stats import val_per_area"
   ]
  },
  {
   "cell_type": "code",
   "execution_count": 26,
   "id": "c9050641",
   "metadata": {},
   "outputs": [],
   "source": [
    "style.use('seaborn-white')\n",
    "input_output_folder = 'data'\n",
    "osm_crs = 'EPSG:3857'"
   ]
  },
  {
   "cell_type": "markdown",
   "id": "eeff6a5f",
   "metadata": {},
   "source": [
    "# Parameters"
   ]
  },
  {
   "cell_type": "code",
   "execution_count": 27,
   "id": "73b954fe",
   "metadata": {},
   "outputs": [],
   "source": [
    "# Place                                Country              CRS\n",
    "# Amsterdam | Rotterdam | The Hague    (The Netherlands)    EPSG:28992\n",
    "# Madrid    | Barcelona | Valencia     (Spain)              EPSG:25830\n",
    "# Stockholm | Goteborg  | Malmo        (Sweden)             EPSG:3006 ???\n",
    "\n",
    "place_name = 'Amsterdam'\n",
    "local_crs = 'EPSG:28992'\n",
    "sub_folder = str(place_name).replace(' ', '')+'_14Apr2022'"
   ]
  },
  {
   "cell_type": "code",
   "execution_count": 28,
   "id": "efdced5f",
   "metadata": {},
   "outputs": [],
   "source": [
    "trip_distances = [300, 500, 800]"
   ]
  },
  {
   "cell_type": "markdown",
   "id": "dc9531ac",
   "metadata": {},
   "source": [
    "# Load data"
   ]
  },
  {
   "cell_type": "code",
   "execution_count": 29,
   "id": "747b81c1",
   "metadata": {},
   "outputs": [],
   "source": [
    "greenspaces = gpd.read_file(os.path.join(input_output_folder, sub_folder, 'greenspaces.geojson'))\n",
    "greenspaces.crs = local_crs"
   ]
  },
  {
   "cell_type": "code",
   "execution_count": 30,
   "id": "33b31d44",
   "metadata": {
    "tags": []
   },
   "outputs": [],
   "source": [
    "paths_file = os.path.join(input_output_folder, sub_folder, 'ALTERNATIVE_betw_complete.geojson')\n",
    "paths = gpd.read_file(paths_file)\n",
    "paths.crs = local_crs\n",
    "\n",
    "paths['betw_adl_800_dr12'] = paths['betw_adl_800_dr12'].astype(float)\n",
    "paths['betw_adl_1000_dr12'] = paths['betw_adl_1000_dr12'].astype(float)\n",
    "paths['betw_adl_1200_dr12'] = paths['betw_adl_1200_dr12'].astype(float)\n",
    "paths['length'] = paths.geometry.length    "
   ]
  },
  {
   "cell_type": "code",
   "execution_count": 31,
   "id": "f4490ca7",
   "metadata": {},
   "outputs": [],
   "source": [
    "def set_types_geometries(df, cols):\n",
    "    for col in cols:\n",
    "        df[col] = df[col].apply(wkt.loads)\n",
    "        gdf = gpd.GeoDataFrame(df, geometry=col)\n",
    "        gdf.crs = local_crs"
   ]
  },
  {
   "cell_type": "code",
   "execution_count": 32,
   "id": "7df64177",
   "metadata": {},
   "outputs": [],
   "source": [
    "cols = []\n",
    "for trip_dist in trip_distances:\n",
    "    cols.append('geom_iso_'+str(trip_dist))\n",
    "\n",
    "set_types_geometries(greenspaces, cols)"
   ]
  },
  {
   "cell_type": "markdown",
   "id": "ec60efd5",
   "metadata": {},
   "source": [
    "# Calculate"
   ]
  },
  {
   "cell_type": "code",
   "execution_count": 33,
   "id": "5b292a37",
   "metadata": {},
   "outputs": [],
   "source": [
    "greenspaces['index'] = greenspaces.index"
   ]
  },
  {
   "cell_type": "markdown",
   "id": "28f64c04",
   "metadata": {},
   "source": [
    "## Dynamic approach"
   ]
  },
  {
   "cell_type": "code",
   "execution_count": 34,
   "id": "3913810d-f39e-4c8e-88af-528177763daf",
   "metadata": {},
   "outputs": [],
   "source": [
    "value_cols = ['betw_adl_800_dr12', 'betw_adl_1000_dr12', 'betw_adl_1200_dr12']"
   ]
  },
  {
   "cell_type": "markdown",
   "id": "c0b4f91d-3361-4a51-bc5d-90ce4d835879",
   "metadata": {},
   "source": [
    "### method 1: length-weighted average (i.e. people-exposure distance(~time) product)"
   ]
  },
  {
   "cell_type": "code",
   "execution_count": 35,
   "id": "ceda0e15",
   "metadata": {},
   "outputs": [],
   "source": [
    "greenspaces = greenspaces.set_geometry('geometry')"
   ]
  },
  {
   "cell_type": "code",
   "execution_count": 36,
   "id": "a23e137b",
   "metadata": {},
   "outputs": [],
   "source": [
    "modes = ['wsum']\n",
    "weight_col = 'length'"
   ]
  },
  {
   "cell_type": "code",
   "execution_count": 37,
   "id": "b91db8b8",
   "metadata": {},
   "outputs": [],
   "source": [
    "for value_col in value_cols:\n",
    "    greenspaces = val_per_area(greenspaces, 'index', paths, modes=modes, value_col=value_col, weight_col=weight_col)"
   ]
  },
  {
   "cell_type": "code",
   "execution_count": 38,
   "id": "a866eb6d",
   "metadata": {},
   "outputs": [],
   "source": [
    "for value_col in value_cols:\n",
    "    for mode in modes:\n",
    "        col = \"{}_{}\".format(value_col, mode)\n",
    "        greenspaces[col] = greenspaces[col].fillna(0)\n",
    "        \n",
    "        rank_col = \"{}_{}_rank\".format(value_col, mode)\n",
    "        greenspaces[rank_col] = greenspaces['{}_{}'.format(value_col, mode)].rank(ascending=False, na_option='bottom', pct=True)\n",
    "        greenspaces[rank_col] = greenspaces[rank_col].astype(float)"
   ]
  },
  {
   "cell_type": "markdown",
   "id": "1e3ec58e-8ac7-40c3-bf0b-acbb18849476",
   "metadata": {},
   "source": [
    "### method 2: sum entrance values / 2 (i.e. people count)"
   ]
  },
  {
   "cell_type": "code",
   "execution_count": 39,
   "id": "d4d766ba-0e81-4c57-8108-07938166403e",
   "metadata": {},
   "outputs": [],
   "source": [
    "greenspaces['geom_boundary'] = greenspaces.geometry.boundary\n",
    "greenspaces = greenspaces.set_geometry('geom_boundary')"
   ]
  },
  {
   "cell_type": "code",
   "execution_count": 40,
   "id": "dc78f5f9-5878-4b31-83ec-867b5b7d7b8c",
   "metadata": {},
   "outputs": [
    {
     "name": "stderr",
     "output_type": "stream",
     "text": [
      "/Users/roosteeuwen/opt/anaconda3/envs/greenspaces/lib/python3.7/site-packages/ipykernel_launcher.py:1: FutureWarning: Currently, index_parts defaults to True, but in the future, it will default to False to be consistent with Pandas. Use `index_parts=True` to keep the current behavior and True/False to silence the warning.\n",
      "  \"\"\"Entry point for launching an IPython kernel.\n"
     ]
    }
   ],
   "source": [
    "entrance_paths = gpd.clip(paths, greenspaces.buffer(1)).explode().reset_index(drop=True)"
   ]
  },
  {
   "cell_type": "code",
   "execution_count": 41,
   "id": "e401cb11-4a9d-4659-9b19-c9022fc9b1d0",
   "metadata": {},
   "outputs": [],
   "source": [
    "modes = ['sum']"
   ]
  },
  {
   "cell_type": "code",
   "execution_count": 42,
   "id": "5daf6ce7-a474-45d3-ac27-fe683cc5e0c7",
   "metadata": {},
   "outputs": [],
   "source": [
    "for value_col in value_cols:\n",
    "    greenspaces = val_per_area(greenspaces, 'index', entrance_paths, modes=modes, value_col=value_col)\n",
    "    greenspaces[value_col+'_entering'] = greenspaces[value_col+'_sum']/2"
   ]
  },
  {
   "cell_type": "code",
   "execution_count": 43,
   "id": "ce259f06-d2eb-4c24-91f5-b84256fd49e5",
   "metadata": {},
   "outputs": [],
   "source": [
    "for value_col in value_cols:\n",
    "    for mode in modes:\n",
    "        col = \"{}_entering\".format(value_col)\n",
    "        greenspaces[col] = greenspaces[col].fillna(0)\n",
    "        \n",
    "        rank_col = value_col+'_entering_rank'\n",
    "        greenspaces[rank_col] = greenspaces[value_col+'_entering'].rank(ascending=False, na_option='bottom', pct=True)\n",
    "        greenspaces[rank_col] = greenspaces[rank_col].astype(float)"
   ]
  },
  {
   "cell_type": "code",
   "execution_count": 51,
   "id": "9637848e-a7cd-47cf-8711-ec8a6c2a31a2",
   "metadata": {},
   "outputs": [],
   "source": [
    "# fig, axs = plt.subplots(nrows=1, ncols=1, figsize=(20,20))\n",
    "# fig.suptitle('Estimated commuting flows from home to adolescents\\' education', fontsize=16)\n",
    "\n",
    "# greenspaces = greenspaces.set_geometry('geometry')\n",
    "\n",
    "# greenspaces[greenspaces[col]==0].plot(ax=axs, color='grey')\n",
    "# greenspaces[greenspaces[col]>0].plot(ax=axs, column=col, cmap='Reds', scheme='quantiles')\n",
    "\n",
    "# plt.show()"
   ]
  },
  {
   "cell_type": "markdown",
   "id": "9841f31d",
   "metadata": {},
   "source": [
    "#  Store output data"
   ]
  },
  {
   "cell_type": "code",
   "execution_count": 21,
   "id": "c13aef3a",
   "metadata": {},
   "outputs": [],
   "source": [
    "output_sub_folder = os.path.join(input_output_folder, sub_folder)"
   ]
  },
  {
   "cell_type": "code",
   "execution_count": 22,
   "id": "d458bc7d",
   "metadata": {},
   "outputs": [],
   "source": [
    "if not os.path.exists(output_sub_folder):\n",
    "    os.mkdir(output_sub_folder)"
   ]
  },
  {
   "cell_type": "code",
   "execution_count": 23,
   "id": "1276eb90",
   "metadata": {},
   "outputs": [],
   "source": [
    "output_file = os.path.join(output_sub_folder, 'ALTERNATIVE_greenspace_accessibility.geojson')\n",
    "greenspaces = greenspaces.apply(lambda c: c.astype(str) if c.name != \"geometry\" else c, axis=0)\n",
    "greenspaces.to_file(output_file, driver='GeoJSON')"
   ]
  }
 ],
 "metadata": {
  "kernelspec": {
   "display_name": "Python 3 (ipykernel)",
   "language": "python",
   "name": "python3"
  },
  "language_info": {
   "codemirror_mode": {
    "name": "ipython",
    "version": 3
   },
   "file_extension": ".py",
   "mimetype": "text/x-python",
   "name": "python",
   "nbconvert_exporter": "python",
   "pygments_lexer": "ipython3",
   "version": "3.9.12"
  }
 },
 "nbformat": 4,
 "nbformat_minor": 5
}
